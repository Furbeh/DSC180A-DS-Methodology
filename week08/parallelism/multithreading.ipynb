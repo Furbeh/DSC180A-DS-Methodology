{
 "cells": [
  {
   "cell_type": "code",
   "execution_count": null,
   "metadata": {},
   "outputs": [],
   "source": [
    "import threading\n",
    "import logging\n",
    "import time\n",
    "\n",
    "format = \"%(asctime)s: %(message)s\"\n",
    "logging.basicConfig(format=format, level=logging.INFO, datefmt=\"%H:%M:%S\")"
   ]
  },
  {
   "cell_type": "markdown",
   "metadata": {},
   "source": [
    "## Threading \n",
    "\n",
    "Threading allows one to run functions on a 'thread' while allowing other parts of the python process to continue:"
   ]
  },
  {
   "cell_type": "code",
   "execution_count": null,
   "metadata": {},
   "outputs": [],
   "source": [
    "def thread_function(name):\n",
    "    \n",
    "    logging.info('Thread %s: starting', name)\n",
    "    time.sleep(2)\n",
    "    logging.info(\"Thread %s: finishing\", name)\n",
    "    \n",
    "    return\n",
    "    "
   ]
  },
  {
   "cell_type": "code",
   "execution_count": null,
   "metadata": {},
   "outputs": [],
   "source": [
    "thread_function('hello')"
   ]
  },
  {
   "cell_type": "markdown",
   "metadata": {},
   "source": [
    "### Notice the order of execution!"
   ]
  },
  {
   "cell_type": "code",
   "execution_count": null,
   "metadata": {},
   "outputs": [],
   "source": [
    "logging.info(\"Main    : before creating thread\")\n",
    "\n",
    "x = threading.Thread(target=thread_function, args=(1,))\n",
    "\n",
    "logging.info(\"Main    : before running thread\")\n",
    "\n",
    "x.start()\n",
    "\n",
    "logging.info(\"Main    : wait for the thread to finish\")\n",
    "\n",
    "logging.info(\"Main    : Still waiting?\")"
   ]
  },
  {
   "cell_type": "markdown",
   "metadata": {},
   "source": [
    "### How to wait for a thread to finish?"
   ]
  },
  {
   "cell_type": "code",
   "execution_count": null,
   "metadata": {},
   "outputs": [],
   "source": [
    "logging.info(\"Main    : before creating thread\")\n",
    "\n",
    "x = threading.Thread(target=thread_function, args=(1,))\n",
    "\n",
    "logging.info(\"Main    : before running thread\")\n",
    "\n",
    "x.start()\n",
    "\n",
    "logging.info(\"Main    : wait for the thread to finish\")\n",
    "\n",
    "x.join()\n",
    "\n",
    "logging.info(\"Main    : all done\")"
   ]
  },
  {
   "cell_type": "markdown",
   "metadata": {},
   "source": [
    "### Working with multiple threads (basic)"
   ]
  },
  {
   "cell_type": "code",
   "execution_count": null,
   "metadata": {},
   "outputs": [],
   "source": [
    "threads = list()\n",
    "for index in range(4):\n",
    "    logging.info(\"Main    : create and start thread %d.\", index)\n",
    "    x = threading.Thread(target=thread_function, args=(index,))\n",
    "    threads.append(x)\n",
    "    x.start()\n",
    "\n",
    "for index, thread in enumerate(threads):\n",
    "    logging.info(\"Main    : before joining thread %d.\", index)\n",
    "    thread.join()\n",
    "    logging.info(\"Main    : thread %d done\", index)"
   ]
  },
  {
   "cell_type": "markdown",
   "metadata": {},
   "source": [
    "### Thread Pools (worker pools)"
   ]
  },
  {
   "cell_type": "code",
   "execution_count": null,
   "metadata": {},
   "outputs": [],
   "source": [
    "import concurrent.futures\n",
    "\n",
    "\n",
    "with concurrent.futures.ThreadPoolExecutor(max_workers=4) as executor:\n",
    "    executor.map(thread_function, range(12))"
   ]
  },
  {
   "cell_type": "markdown",
   "metadata": {},
   "source": [
    "### Caution\n",
    "\n",
    "When threads require sharing information, this can lead to *race* conditions and difficult to debug errors.\n",
    "\n",
    "Read more about this here: https://realpython.com/intro-to-python-threading/"
   ]
  },
  {
   "cell_type": "code",
   "execution_count": null,
   "metadata": {},
   "outputs": [],
   "source": []
  }
 ],
 "metadata": {
  "kernelspec": {
   "display_name": "Python 3",
   "language": "python",
   "name": "python3"
  },
  "language_info": {
   "codemirror_mode": {
    "name": "ipython",
    "version": 3
   },
   "file_extension": ".py",
   "mimetype": "text/x-python",
   "name": "python",
   "nbconvert_exporter": "python",
   "pygments_lexer": "ipython3",
   "version": "3.7.1"
  }
 },
 "nbformat": 4,
 "nbformat_minor": 2
}
