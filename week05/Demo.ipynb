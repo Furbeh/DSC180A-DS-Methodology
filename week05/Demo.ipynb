{
 "cells": [
  {
   "cell_type": "code",
   "execution_count": null,
   "metadata": {},
   "outputs": [],
   "source": [
    "import os\n",
    "import shutil\n",
    "import shlex\n",
    "import sys\n",
    "import subprocess as sp"
   ]
  },
  {
   "cell_type": "markdown",
   "metadata": {},
   "source": [
    "### Simple Iterators\n",
    "\n",
    "* `to_upper(I)` transforms each word in a stream `I` to upper-case.\n",
    "* `take(N, I)` terminates a stream `I` after after `N` iterations."
   ]
  },
  {
   "cell_type": "code",
   "execution_count": null,
   "metadata": {},
   "outputs": [],
   "source": [
    "def to_upper(I):\n",
    "    for i in I:\n",
    "        yield i.upper()\n",
    "        \n",
    "\n",
    "def take(N, I):\n",
    "    for n, i in enumerate(I):\n",
    "        if n < N:\n",
    "            yield i\n",
    "        else:\n",
    "            break\n",
    "\n",
    "    return StopIteration\n",
    "        "
   ]
  },
  {
   "cell_type": "code",
   "execution_count": null,
   "metadata": {},
   "outputs": [],
   "source": [
    "# dictionary file\n",
    "fp = '/usr/share/dict/words'"
   ]
  },
  {
   "cell_type": "code",
   "execution_count": null,
   "metadata": {},
   "outputs": [],
   "source": [
    "%timeit words = [x.strip() for x in to_upper(open(fp))][:10]"
   ]
  },
  {
   "cell_type": "code",
   "execution_count": null,
   "metadata": {},
   "outputs": [],
   "source": [
    "%timeit words = [x.strip() for x in take(10, to_upper(open(fp)))]"
   ]
  },
  {
   "cell_type": "markdown",
   "metadata": {},
   "source": [
    "### Stream through dictionary:\n",
    "\n",
    "The function `write_by_first_letter`:\n",
    "* collects a list of words for each first-letter,\n",
    "* writes collections to 'partition' files,\n",
    "* yields partition key for each new first-letter."
   ]
  },
  {
   "cell_type": "code",
   "execution_count": null,
   "metadata": {},
   "outputs": [],
   "source": [
    "def write_by_first_letter(I):\n",
    "    \n",
    "    first = next(I)\n",
    "    fixed_letter = first[0].upper()\n",
    "    buff = [first]\n",
    "    yield fixed_letter\n",
    "    \n",
    "    for i in I:\n",
    "        letter = i[0].upper()\n",
    "        if letter == fixed_letter:\n",
    "            buff.append(i)\n",
    "        else:\n",
    "            with open('file_%s' % fixed_letter, 'w') as fh:\n",
    "                fh.write('\\n'.join(buff))\n",
    "            fixed_letter = letter\n",
    "            buff = [i]\n",
    "            yield fixed_letter\n",
    "            \n",
    "    with open('file_%s' % fixed_letter, 'w') as fh:\n",
    "        fh.write('\\n'.join(buff))\n",
    "        \n",
    "    return StopIteration\n",
    "            \n"
   ]
  },
  {
   "cell_type": "code",
   "execution_count": null,
   "metadata": {},
   "outputs": [],
   "source": [
    "# partition dictionary to files by first name\n",
    "for i in write_by_first_letter(open(fp)):\n",
    "    print(i, end=' ')"
   ]
  },
  {
   "cell_type": "code",
   "execution_count": null,
   "metadata": {},
   "outputs": [],
   "source": [
    "!ls file_*"
   ]
  },
  {
   "cell_type": "code",
   "execution_count": null,
   "metadata": {},
   "outputs": [],
   "source": [
    "!rm file_*"
   ]
  },
  {
   "cell_type": "code",
   "execution_count": null,
   "metadata": {},
   "outputs": [],
   "source": [
    "# partition dictionary to files by first name, stopping after 10 letters\n",
    "for i in take(10, write_by_first_letter(open(fp))):\n",
    "    print(i, end=' ')"
   ]
  },
  {
   "cell_type": "code",
   "execution_count": null,
   "metadata": {},
   "outputs": [],
   "source": [
    "!ls file_*"
   ]
  },
  {
   "cell_type": "code",
   "execution_count": null,
   "metadata": {},
   "outputs": [],
   "source": [
    "!rm file_*"
   ]
  },
  {
   "cell_type": "markdown",
   "metadata": {},
   "source": [
    "### potential issues:\n",
    "* Issue 1: Each partition varies in size.\n",
    "    - Can you fix the above 'partition writer', so that the buffer `buff` always has fixed size (e.g. 1000)?\n",
    "    - This allows you to manage the size of the buffer.\n",
    "    - Note: the files will still be of separate sizes.\n",
    "* Issue 2: What if the dictionary were not sorted?\n",
    "    - Why is this impossible to do in a streaming fashion?\n",
    "    - What approaches might you take to deal with such a situation?"
   ]
  },
  {
   "cell_type": "code",
   "execution_count": null,
   "metadata": {},
   "outputs": [],
   "source": []
  },
  {
   "cell_type": "markdown",
   "metadata": {},
   "source": [
    "## File and Process Management\n",
    "\n",
    "A quick introduction to the following libraries:\n",
    "* The `os` module for file management.\n",
    "* The `subprocess` module for process management.\n",
    "\n",
    "For each of the functions below, look up the documentation to better understand the purpose and parameters of the function!"
   ]
  },
  {
   "cell_type": "code",
   "execution_count": null,
   "metadata": {},
   "outputs": [],
   "source": [
    "# make data\n",
    "import numpy as np\n",
    "import pandas as pd\n",
    "\n",
    "arr = np.random.randint(0, 1000, size=(10000,100))\n",
    "pd.DataFrame(arr).to_csv('test.csv', header=True, index=False)"
   ]
  },
  {
   "cell_type": "markdown",
   "metadata": {},
   "source": [
    "### File management in python (`os`, `shutil` module)"
   ]
  },
  {
   "cell_type": "code",
   "execution_count": null,
   "metadata": {},
   "outputs": [],
   "source": [
    "# create a test directory, if it doesn't exist\n",
    "os.makedirs('test', exist_ok=True)\n",
    "\n",
    "# iterate through the dataframe and create files of 100 lines long\n",
    "fcnt = 0\n",
    "for df in pd.read_csv('test.csv', chunksize=100):\n",
    "    fp = os.path.join('test', 'chunk_%d' % fcnt)\n",
    "    df.loc[df['3'] % 2 == 0].to_csv(fp, header=True, index=False)\n",
    "    fcnt += 1"
   ]
  },
  {
   "cell_type": "code",
   "execution_count": null,
   "metadata": {},
   "outputs": [],
   "source": [
    "# (recursive) copy directory test (and all files contained within)\n",
    "shutil.copytree('test', 'copytest')"
   ]
  },
  {
   "cell_type": "code",
   "execution_count": null,
   "metadata": {},
   "outputs": [],
   "source": [
    "os.path.exists('copytest')"
   ]
  },
  {
   "cell_type": "code",
   "execution_count": null,
   "metadata": {},
   "outputs": [],
   "source": [
    "# depth first traverse all files cotained in the current directory '.'\n",
    "for base, dirs, files in os.walk('.'):\n",
    "    print(base, dirs, files, end='\\n\\n')"
   ]
  },
  {
   "cell_type": "code",
   "execution_count": null,
   "metadata": {},
   "outputs": [],
   "source": [
    "shutil.rmtree('copytest')\n",
    "shutil.rmtree('test')"
   ]
  },
  {
   "cell_type": "code",
   "execution_count": null,
   "metadata": {},
   "outputs": [],
   "source": [
    "os.path.exists('copytest')"
   ]
  },
  {
   "cell_type": "markdown",
   "metadata": {},
   "source": [
    "### Subprocess management in python (`subprocess` module)"
   ]
  },
  {
   "cell_type": "code",
   "execution_count": null,
   "metadata": {},
   "outputs": [],
   "source": [
    "# shlex.split parses a terminal command into a list for subprocess\n",
    "cmd = shlex.split('cp test.csv cptest.csv')\n",
    "cmd"
   ]
  },
  {
   "cell_type": "code",
   "execution_count": null,
   "metadata": {},
   "outputs": [],
   "source": [
    "# subprocess.call starts a shell subprocess and calls the command using it.\n",
    "# The function *waits* for the process to finish, and returns the *return code*.\n",
    "# the return code of a shell process is 0 if successful and 1 if not.\n",
    "sp.call(cmd)"
   ]
  },
  {
   "cell_type": "code",
   "execution_count": null,
   "metadata": {},
   "outputs": [],
   "source": [
    "os.path.exists('cptest.csv')"
   ]
  },
  {
   "cell_type": "code",
   "execution_count": null,
   "metadata": {},
   "outputs": [],
   "source": [
    "# removing a single file with the os module\n",
    "os.remove('cptest.csv')"
   ]
  },
  {
   "cell_type": "code",
   "execution_count": null,
   "metadata": {},
   "outputs": [],
   "source": [
    "# This shell command with `cut` takes the 9,11,87 columns of the csv file\n",
    "cmd = shlex.split('cut -d, -f9,11,87 test.csv')\n",
    "cmd"
   ]
  },
  {
   "cell_type": "code",
   "execution_count": null,
   "metadata": {},
   "outputs": [],
   "source": [
    "# The command is successful, but doesn't seem to do anything!\n",
    "# This is because the command doesn't save to a file; it prints to screen ('standard out')\n",
    "sp.call(cmd)"
   ]
  },
  {
   "cell_type": "code",
   "execution_count": null,
   "metadata": {},
   "outputs": [],
   "source": [
    "# to save to a file, redirect standard out to a file\n",
    "sp.call(cmd, stdout=open('test_out.csv', 'w'))"
   ]
  },
  {
   "cell_type": "code",
   "execution_count": null,
   "metadata": {},
   "outputs": [],
   "source": [
    "pd.read_csv('test_out.csv').head()"
   ]
  },
  {
   "cell_type": "code",
   "execution_count": null,
   "metadata": {},
   "outputs": [],
   "source": [
    "os.remove('test_out.csv')"
   ]
  },
  {
   "cell_type": "code",
   "execution_count": null,
   "metadata": {},
   "outputs": [],
   "source": [
    "# ls also prints to screen.\n",
    "# Why does this command fail? (return code is 1)\n",
    "sp.call(['ls', 'blah'])"
   ]
  },
  {
   "cell_type": "code",
   "execution_count": null,
   "metadata": {},
   "outputs": [],
   "source": [
    "sp.call(['ls', 'blah'], stderr=open('errlog', 'w'))"
   ]
  },
  {
   "cell_type": "code",
   "execution_count": null,
   "metadata": {},
   "outputs": [],
   "source": [
    "with open('errlog') as fh:\n",
    "    print(fh.read())\n",
    "os.remove('errlog')"
   ]
  },
  {
   "cell_type": "code",
   "execution_count": null,
   "metadata": {},
   "outputs": [],
   "source": [
    "# Popen stands for 'process open'\n",
    "# Popen is *non-blocking* -- meaning it starts the subprocess and resumes the python\n",
    "# control-flow, without waiting for the process to finish.\n",
    "# sp.PIPE is a buffer to read from later\n",
    "proc = sp.Popen(['ls', 'blah'], stdout=sp.PIPE, stderr=sp.PIPE)"
   ]
  },
  {
   "cell_type": "code",
   "execution_count": null,
   "metadata": {},
   "outputs": [],
   "source": [
    "proc.stderr.read()"
   ]
  },
  {
   "cell_type": "code",
   "execution_count": null,
   "metadata": {},
   "outputs": [],
   "source": [
    "# This script waits 10 seconds between statements"
   ]
  },
  {
   "cell_type": "code",
   "execution_count": null,
   "metadata": {},
   "outputs": [],
   "source": [
    "! cat script.sh"
   ]
  },
  {
   "cell_type": "code",
   "execution_count": null,
   "metadata": {},
   "outputs": [],
   "source": [
    "import time"
   ]
  },
  {
   "cell_type": "code",
   "execution_count": null,
   "metadata": {},
   "outputs": [],
   "source": [
    "proc = sp.Popen(['./script.sh'], stdout=sp.PIPE, stderr=sp.PIPE)\n",
    "for d in range(30):\n",
    "    if d % 5 == 0:\n",
    "        print('time = %d' % d)\n",
    "        print(proc.stdout.peek())\n",
    "        print('return code: ' + str(proc.poll()))\n",
    "\n",
    "    time.sleep(1)"
   ]
  },
  {
   "cell_type": "code",
   "execution_count": null,
   "metadata": {},
   "outputs": [],
   "source": [
    "proc.stdout.read()"
   ]
  },
  {
   "cell_type": "code",
   "execution_count": null,
   "metadata": {},
   "outputs": [],
   "source": [
    "proc = sp.Popen(['./script.sh'], stdout=sp.PIPE, stderr=sp.PIPE)\n",
    "for d in range(30):\n",
    "    if d % 5 == 0:\n",
    "        print('time = %d' % d)\n",
    "        proc.communicate()\n",
    "        print('return code: ' + str(proc.poll()))\n",
    "\n",
    "    time.sleep(1)\n"
   ]
  },
  {
   "cell_type": "code",
   "execution_count": null,
   "metadata": {},
   "outputs": [],
   "source": []
  }
 ],
 "metadata": {
  "kernelspec": {
   "display_name": "Python 3",
   "language": "python",
   "name": "python3"
  },
  "language_info": {
   "codemirror_mode": {
    "name": "ipython",
    "version": 3
   },
   "file_extension": ".py",
   "mimetype": "text/x-python",
   "name": "python",
   "nbconvert_exporter": "python",
   "pygments_lexer": "ipython3",
   "version": "3.7.1"
  }
 },
 "nbformat": 4,
 "nbformat_minor": 2
}
